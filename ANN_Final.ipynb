{
 "cells": [
  {
   "cell_type": "code",
   "execution_count": null,
   "id": "78a108d7",
   "metadata": {},
   "outputs": [],
   "source": [
    "#İmporting necessarty libraries\n",
    "\n",
    "import numpy as np\n",
    "import pandas as pd\n",
    "from sklearn.model_selection import train_test_split\n",
    "from matplotlib import pyplot\n",
    "import matplotlib.pyplot as plt\n",
    "import numpy as np\n",
    "import pandas as pd\n",
    "#import tensorflow as tf\n",
    "from sklearn.model_selection import train_test_split\n",
    "#from tensorflow.keras.wrappers.scikit_learn import KerasClassifier\n",
    "from sklearn.model_selection import cross_val_score"
   ]
  },
  {
   "cell_type": "code",
   "execution_count": null,
   "id": "a4699d2a",
   "metadata": {},
   "outputs": [],
   "source": [
    "#Reading the Forest Fire Data\n",
    "\n",
    "df1 = pd.read_csv('Fire_Data.csv')\n",
    "df2 = pd.read_csv('Non_Fire_Data.csv')\n",
    "#big_data = pd.read_csv('Data_All.csv')\n",
    "df = pd.concat([df1, df2])"
   ]
  },
  {
   "cell_type": "code",
   "execution_count": null,
   "id": "be9f5d86",
   "metadata": {},
   "outputs": [],
   "source": [
    "#Renaming the columns in the data for a better understanding\n",
    "\n",
    "df =df.rename(columns={\"Power_Lines_Proximity\":\"Power Lines Proximity\", \n",
    "                   \"ESA_Worldcover\":\"LULC\",\n",
    "                   \"Forest_Density\":\"TCD\",\n",
    "                   \"Forest_Road_Proximity\": \"Forest Road Proximity\",\n",
    "                   \"Railroad_Proximity\": \"Railway Proximity\",\n",
    "                   \"Road_Proximity\": \"Road Proximity\",\n",
    "                   \"Settlement_Density\": \"Settlement Density\",\n",
    "                   \"Settlement_Proximity\": \"Settlement Proximity\",\n",
    "                   \"Tree_Ages\": \"Tree Ages\",\n",
    "                   \"Tree_Types\": \"Tree Types\",\n",
    "                   \"Water_Proximity\": \"Water Proximity\",\n",
    "                   \"DEM\": \"Elevation\",\n",
    "                   \"Fuels\" : \"Forest Type\"   \n",
    "                  })\n",
    "\n",
    "labels = np.asarray(df.Fires) # Read Label Columns as numpy array for Sklearn to understand\n",
    "feature_cols = [\"Aspect\",\n",
    "                'Elevation',\n",
    "                \"LULC\",\n",
    "                \"TCD\",\n",
    "                \"Forest Type\",\n",
    "                \"MNDWI\",\n",
    "                \"NDVI\",\n",
    "                \"Power Lines Proximity\", \n",
    "                \"Road Proximity\",\n",
    "                \"Settlement Density\",\n",
    "                \"Settlement Proximity\",\n",
    "                \"Tree Types\",\n",
    "                \"Tree Ages\",\n",
    "                \"Forest Road Proximity\",\n",
    "                \"Slope\",\n",
    "                \"Water Proximity\"                \n",
    "                                ]"
   ]
  },
  {
   "cell_type": "code",
   "execution_count": null,
   "id": "ff5c1d9b",
   "metadata": {},
   "outputs": [],
   "source": [
    "# Creating X and Y values for splitting data\n",
    "labels = np.asarray(df.Fires) # Read Label Columns as numpy array for Sklearn to understand\n",
    "x = df[feature_cols] #Reading Features from the selected columns in df\n",
    "y = labels # Reading labels as y\n",
    "x_train, x_test, y_train, y_test = train_test_split(x, y, test_size = 0.2) # Split the data"
   ]
  },
  {
   "cell_type": "code",
   "execution_count": null,
   "id": "151bca85",
   "metadata": {},
   "outputs": [],
   "source": [
    "# ANN\n",
    "\n",
    "Y_train = y_train\n",
    "Y_test = y_test\n",
    "\n",
    "X_train = x_train.iloc[:,0:16].values\n",
    "X_test  = x_test.iloc[:,0:16].values\n",
    "\n",
    "#X_train,X_test,Y_train,Y_test = train_test_split(X,Y,test_size=0.2,random_state=0)"
   ]
  },
  {
   "cell_type": "code",
   "execution_count": null,
   "id": "c531339d",
   "metadata": {},
   "outputs": [],
   "source": [
    "#Performing Feature Scaling for ANN \n",
    "\n",
    "\n",
    "from sklearn.preprocessing import StandardScaler\n",
    "sc = StandardScaler()\n",
    "X_train = sc.fit_transform(X_train)\n",
    "X_test = sc.transform(X_test)\n",
    "\n",
    "ann = tf.keras.models.Sequential()\n",
    "ann.add(tf.keras.layers.Dense(units=8,activation=\"relu\"))\n",
    "ann.add(tf.keras.layers.Dense(units=8,activation=\"relu\"))\n",
    "ann.add(tf.keras.layers.Dense(units=1,activation=\"sigmoid\"))\n",
    "\n",
    "#Performing Accuracy measurement functions\n",
    "from keras import backend as K\n",
    "\n",
    "def recall_m(y_true, y_pred):\n",
    "    true_positives = K.sum(K.round(K.clip(y_true * y_pred, 0, 1)))\n",
    "    possible_positives = K.sum(K.round(K.clip(y_true, 0, 1)))\n",
    "    recall = true_positives / (possible_positives + K.epsilon())\n",
    "    return recall\n",
    "\n",
    "def precision_m(y_true, y_pred):\n",
    "    true_positives = K.sum(K.round(K.clip(y_true * y_pred, 0, 1)))\n",
    "    predicted_positives = K.sum(K.round(K.clip(y_pred, 0, 1)))\n",
    "    precision = true_positives / (predicted_positives + K.epsilon())\n",
    "    return precision\n",
    "\n",
    "def f1_m(y_true, y_pred):\n",
    "    precision = precision_m(y_true, y_pred)\n",
    "    recall = recall_m(y_true, y_pred)\n",
    "    return 2*((precision*recall)/(precision+recall+K.epsilon()))\n",
    "\n",
    "ann.compile(optimizer=\"adam\",loss=\"binary_crossentropy\",metrics=['acc',f1_m,precision_m, recall_m])\n",
    "\n",
    "ann.fit(X_train,Y_train,batch_size=32,epochs = 100)\n",
    "\n"
   ]
  },
  {
   "cell_type": "code",
   "execution_count": null,
   "id": "4e3d4e59",
   "metadata": {},
   "outputs": [],
   "source": [
    "#Saving the ANN locally for future need\n",
    "ann.save(\"ANN.ALL_Features_last\")"
   ]
  },
  {
   "cell_type": "code",
   "execution_count": null,
   "id": "29e4db32",
   "metadata": {},
   "outputs": [],
   "source": [
    "#Visualizing the model\n",
    "plot_model(ann, to_file='model.png', show_shapes=True, show_layer_names=True)"
   ]
  },
  {
   "cell_type": "code",
   "execution_count": null,
   "id": "6cccfbe6",
   "metadata": {},
   "outputs": [],
   "source": [
    "#Saving the visual\n",
    "from ann_visualizer.visualize import ann_viz;\n",
    "\n",
    "ann_viz(ann, title=\"My first neural network\")"
   ]
  },
  {
   "cell_type": "code",
   "execution_count": null,
   "id": "a3ead3b1",
   "metadata": {},
   "outputs": [],
   "source": [
    "# PLotting ROC Curve\n",
    "\n",
    "from sklearn import metrics\n",
    "#set up plotting area\n",
    "#plt.figure(0).clf()\n",
    "plt.figure(dpi=150)\n",
    "\n",
    "\n",
    "y_pred = probas = ann.predict(X_test)\n",
    "fpr, tpr, _ = metrics.roc_curve(Y_test, y_pred)\n",
    "auc = round(metrics.roc_auc_score(Y_test, y_pred), 3)\n",
    "plt.plot(fpr,tpr,lw=1, color='red',label=\" ANN_AUC = \"+str(auc))\n",
    "\n",
    "#add legend marker='o', linestyle='dashed'\n",
    "\n",
    "plt.title('ANN ROC curve')\n",
    "plt.xlabel('False Positive Rate')\n",
    "plt.ylabel('True Positive rate')\n",
    "plt.xlim([-0.05, 0.51])\n",
    "plt.ylim([-0.05, 1.05])\n",
    "plt.legend(loc='best')\n",
    "plt.savefig('ROC Curve',dpi=300);"
   ]
  },
  {
   "cell_type": "code",
   "execution_count": null,
   "id": "4c2a8ed5",
   "metadata": {},
   "outputs": [],
   "source": [
    "#Reading the data of whole study area to implement the model and predict forest fire susceptibility values \n",
    "big_data = pd.read_csv('Data_All.csv')"
   ]
  },
  {
   "cell_type": "code",
   "execution_count": null,
   "id": "3d62a9fe",
   "metadata": {},
   "outputs": [],
   "source": [
    "#Renaming the columns in the big data as before \n",
    "big_data = big_data.rename(columns={\"Power_Lines_Proximity\":\"Power Lines Proximity\", \n",
    "                   \"ESA_Worldcover\":\"LULC\",\n",
    "                   \"Forest_Density\":\"TCD\",\n",
    "                   \"Forest_Road_Proximity\": \"Forest Road Proximity\",\n",
    "                   \"Railroad_Proximity\": \"Railway Proximity\",\n",
    "                   \"Road_Proximity\": \"Road Proximity\",\n",
    "                   \"Settlement_Density\": \"Settlement Density\",\n",
    "                   \"Settlement_Proximity\": \"Settlement Proximity\",\n",
    "                   \"Tree_Ages\": \"Tree Ages\",\n",
    "                   \"Tree_Types\": \"Tree Types\",\n",
    "                   \"Water_Proximity\": \"Water Proximity\",\n",
    "                   \"DEM\": \"Elevation\" \n",
    "                  })\n",
    "big_data2 = big_data[feature_cols]"
   ]
  },
  {
   "cell_type": "code",
   "execution_count": null,
   "id": "02b2bce2",
   "metadata": {},
   "outputs": [],
   "source": [
    "#Perform scaling once again on the big data\n",
    "big_data2 = big_data.iloc[:,0:17].values\n",
    "big_data2  = sc.transform(big_data2)"
   ]
  },
  {
   "cell_type": "code",
   "execution_count": null,
   "id": "63832d4a",
   "metadata": {},
   "outputs": [],
   "source": [
    "class_code = clf.predict(big_data2)            # Predictions"
   ]
  },
  {
   "cell_type": "code",
   "execution_count": null,
   "id": "0046ce84",
   "metadata": {},
   "outputs": [],
   "source": [
    "class_code_prob = clf.predict_proba(big_data2) # Probabilities"
   ]
  },
  {
   "cell_type": "code",
   "execution_count": null,
   "id": "6b245e56",
   "metadata": {},
   "outputs": [],
   "source": [
    "#Creating the df for for the prediction values\n",
    "Results = pd.DataFrame(class_code_prob, columns = ['Class_0_Prob','Class_1_Prob']) # Writing Probability results into specified columns"
   ]
  },
  {
   "cell_type": "code",
   "execution_count": null,
   "id": "763b0db1",
   "metadata": {},
   "outputs": [],
   "source": [
    "#Importing predicted values into df\n",
    "Results2 = pd.DataFrame(class_code_ann, columns = ['PredictionsANN']) # Writing Probability results into specified columns\n",
    "Results2['Predictions_ANN'] = class_code_ann.tolist() # Writing Predictions into Column"
   ]
  },
  {
   "cell_type": "code",
   "execution_count": null,
   "id": "f56fdc7e",
   "metadata": {},
   "outputs": [],
   "source": [
    "#Importing the X and Y coordinates to map the predicticted values \n",
    "Results2['X'] = big_data['X'].tolist()        # Writing X Coordinates into column\n",
    "Results2['Y'] = big_data['Y'].tolist()        # Writing Y Coordinates into column"
   ]
  },
  {
   "cell_type": "code",
   "execution_count": null,
   "id": "2728ec24",
   "metadata": {},
   "outputs": [],
   "source": [
    "#Saving the df as CSV file to map in ArcGIS\n",
    "Results2.to_csv('ANN_Final.csv')           # Writing the df into CSV Table"
   ]
  }
 ],
 "metadata": {
  "kernelspec": {
   "display_name": "Python 3 (ipykernel)",
   "language": "python",
   "name": "python3"
  },
  "language_info": {
   "codemirror_mode": {
    "name": "ipython",
    "version": 3
   },
   "file_extension": ".py",
   "mimetype": "text/x-python",
   "name": "python",
   "nbconvert_exporter": "python",
   "pygments_lexer": "ipython3",
   "version": "3.11.3"
  }
 },
 "nbformat": 4,
 "nbformat_minor": 5
}
