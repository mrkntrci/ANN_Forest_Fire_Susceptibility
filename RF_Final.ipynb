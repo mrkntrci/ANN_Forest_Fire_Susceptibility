{
 "cells": [
  {
   "cell_type": "code",
   "execution_count": null,
   "id": "9b8ff7b5",
   "metadata": {},
   "outputs": [],
   "source": [
    "import numpy as np\n",
    "import pandas as pd\n",
    "import sklearn\n",
    "from sklearn.model_selection import train_test_split\n",
    "import sklearn.metrics\n",
    "from sklearn.ensemble import RandomForestClassifier\n",
    "from sklearn.metrics import f1_score\n",
    "from sklearn.metrics import RocCurveDisplay\n",
    "from sklearn.metrics import roc_curve, auc\n",
    "from sklearn.svm import SVC\n",
    "from matplotlib import pyplot\n",
    "import matplotlib.pyplot as plt"
   ]
  },
  {
   "cell_type": "code",
   "execution_count": null,
   "id": "f9ed33ef",
   "metadata": {},
   "outputs": [],
   "source": [
    "df1 = pd.read_csv('Fire_Data.csv')\n",
    "df2 = pd.read_csv('Non_Fire_Data.csv')\n",
    "#big_data = pd.read_csv('Data_All.csv')\n",
    "df = pd.concat([df1, df2])"
   ]
  },
  {
   "cell_type": "code",
   "execution_count": null,
   "id": "33dd9cf5",
   "metadata": {},
   "outputs": [],
   "source": [
    "df =df.rename(columns={\"Power_Lines_Proximity\":\"Power Lines Proximity\", \n",
    "                   \"ESA_Worldcover\":\"LULC\",\n",
    "                   \"Forest_Density\":\"TCD\",\n",
    "                   \"Forest_Road_Proximity\": \"Forest Road Proximity\",\n",
    "                   \"Railroad_Proximity\": \"Railway Proximity\",\n",
    "                   \"Road_Proximity\": \"Road Proximity\",\n",
    "                   \"Settlement_Density\": \"Settlement Density\",\n",
    "                   \"Settlement_Proximity\": \"Settlement Proximity\",\n",
    "                   \"Tree_Ages\": \"Tree Ages\",\n",
    "                   \"Tree_Types\": \"Tree Types\",\n",
    "                   \"Water_Proximity\": \"Water Proximity\",\n",
    "                   \"DEM\": \"Elevation\",\n",
    "                   \"Fuels\" : \"Forest Type\"   \n",
    "                  })\n",
    "\n",
    "labels = np.asarray(df.Fires) # Read Label Columns as numpy array for Sklearn to understand\n",
    "feature_cols = [\"Aspect\",\n",
    "                'Elevation',\n",
    "                \"LULC\",\n",
    "                \"TCD\",\n",
    "                \"Forest Type\",\n",
    "                \"MNDWI\",\n",
    "                \"NDVI\",\n",
    "                \"Power Lines Proximity\", \n",
    "                \"Road Proximity\",\n",
    "                \"Settlement Density\",\n",
    "                \"Settlement Proximity\",\n",
    "                \"Tree Types\",\n",
    "                \"Tree Ages\",\n",
    "                \"Forest Road Proximity\",\n",
    "                \"Slope\",\n",
    "                \"Water Proximity\"                \n",
    "                                ]"
   ]
  },
  {
   "cell_type": "code",
   "execution_count": null,
   "id": "8329a2f3",
   "metadata": {},
   "outputs": [],
   "source": [
    "# CLF\n",
    "labels = np.asarray(df.Fires) # Read Label Columns as numpy array for Sklearn to understand\n",
    "x = df[feature_cols] #Reading Features from the selected columns in df\n",
    "y = labels # Reading labels as y\n",
    "x_train, x_test, y_train, y_test = train_test_split(x, y, test_size = 0.2) # Split the data"
   ]
  },
  {
   "cell_type": "markdown",
   "id": "8480bee5",
   "metadata": {},
   "source": [
    "# Parameter Tuning CV"
   ]
  },
  {
   "cell_type": "code",
   "execution_count": null,
   "id": "9e965d29",
   "metadata": {},
   "outputs": [],
   "source": [
    "from sklearn.model_selection import RandomizedSearchCV# Number of trees in random forest\n",
    "n_estimators = [int(x) for x in np.linspace(start = 200, stop = 2000, num = 10)]\n",
    "# Number of features to consider at every split\n",
    "max_features = ['auto', 'sqrt']\n",
    "# Maximum number of levels in tree\n",
    "max_depth = [int(x) for x in np.linspace(10, 110, num = 11)]\n",
    "max_depth.append(None)\n",
    "# Minimum number of samples required to split a node\n",
    "min_samples_split = [2, 5, 10]\n",
    "# Minimum number of samples required at each leaf node\n",
    "min_samples_leaf = [1, 2, 4]\n",
    "# Method of selecting samples for training each tree\n",
    "bootstrap = [True, False]# Create the random grid\n",
    "random_grid = {'n_estimators': n_estimators,\n",
    "               'max_features': max_features,\n",
    "               'max_depth': max_depth,\n",
    "               'min_samples_split': min_samples_split,\n",
    "               'min_samples_leaf': min_samples_leaf,\n",
    "               'bootstrap': bootstrap}\n",
    "pprint(random_grid)"
   ]
  },
  {
   "cell_type": "code",
   "execution_count": null,
   "id": "e07f7c8f",
   "metadata": {},
   "outputs": [],
   "source": [
    "#Use the random grid to search for best hyperparameters\n",
    "# First create the base model to tune\n",
    "# Random search of parameters, using 3 fold cross validation, \n",
    "# search across 100 different combinations, and use all available cores\n",
    "clf_random = RandomizedSearchCV(estimator = clf, param_distributions = random_grid, n_iter = 100, cv = 3, verbose=2, random_state=42, n_jobs = -1)# Fit the random search model\n",
    "clf_random.fit(x_train, y_train)"
   ]
  },
  {
   "cell_type": "code",
   "execution_count": null,
   "id": "4d22fdc1",
   "metadata": {},
   "outputs": [],
   "source": [
    "#This will give the best parameters for RF\n",
    "clf_random.best_params_"
   ]
  },
  {
   "cell_type": "code",
   "execution_count": null,
   "id": "416023e0",
   "metadata": {},
   "outputs": [],
   "source": [
    "from sklearn.metrics import make_scorer, accuracy_score, precision_score, recall_score, f1_score\n",
    "\n",
    "scoring = {'accuracy' : make_scorer(accuracy_score), \n",
    "           'precision' : make_scorer(precision_score),\n",
    "           'recall' : make_scorer(recall_score), \n",
    "           'f1_score' : make_scorer(f1_score)}\n",
    "\n",
    "kfold = clf.KFold(n_splits=10, random_state=42)\n",
    "model=RandomForestClassifier(n_estimators=50) \n",
    "\n",
    "results = model_selection.cross_val_score(estimator=model,\n",
    "                                          X=features,\n",
    "                                          y=labels,\n",
    "                                          cv=kfold,\n",
    "                                          scoring=scoring)"
   ]
  },
  {
   "cell_type": "markdown",
   "id": "62ddaf6e",
   "metadata": {},
   "source": [
    "# Random Forest Classifier"
   ]
  },
  {
   "cell_type": "code",
   "execution_count": null,
   "id": "9d093d70",
   "metadata": {},
   "outputs": [],
   "source": [
    "clf = RandomForestClassifier(n_estimators = 400,\n",
    "                             min_samples_split= 10,\n",
    "                             min_samples_leaf = 4,\n",
    "                             max_features = 'sqrt',\n",
    "                             max_depth = 16,\n",
    "                             bootstrap = True,\n",
    "                             )\n",
    "clf.fit(x_train, y_train) \n",
    "y_score = clf.fit(x_train, y_train)\n",
    "predictions = clf.predict(x_test)\n",
    "prob = clf.predict_proba(x_test)"
   ]
  },
  {
   "cell_type": "markdown",
   "id": "053a6be3",
   "metadata": {},
   "source": [
    "# #Accuracy"
   ]
  },
  {
   "cell_type": "code",
   "execution_count": null,
   "id": "5ea009d8",
   "metadata": {},
   "outputs": [],
   "source": [
    "\n",
    "#conf_matrix = sklearn.metrics.confusion_matrix(y_test, predictions)\n",
    "#print(conf_matrix)\n",
    "\n",
    "acc_test = clf.score(x_test, y_test)\n",
    "print (\"Test Accuracy:\", acc_test)\n",
    "\n",
    "'''f1_score(y_true, y_pred, average='weighted') f1_score(y_true, y_pred, average='macro') f1_score(y_true, y_pred, average='micro')'''\n",
    "\n",
    "y_true = y_test\n",
    "y_pred = clf.predict(x_test)\n",
    "y_true = y_true.tolist()\n",
    "y_pred = y_pred.tolist()\n",
    "f1_score(y_true, y_pred, average=None)\n",
    "#calısıyor bozma\n",
    "f1 = f1_score(y_true, y_pred, zero_division=1)\n",
    "\n",
    "print (\"f1 Accuracy:\", f1)"
   ]
  },
  {
   "cell_type": "code",
   "execution_count": null,
   "id": "169dd559",
   "metadata": {},
   "outputs": [],
   "source": [
    "pred = clf.predict(x_test)\n",
    "pred_prob = clf.predict_proba(x_test)\n",
    "\n",
    "# roc curve for classes\n",
    "fpr = {}\n",
    "tpr = {}\n",
    "thresh ={}\n",
    "\n",
    "n_class = 2\n",
    "\n",
    "for i in range(n_class):    \n",
    "    fpr[i], tpr[i], thresh[i] = roc_curve(y_test, pred_prob[:,i], pos_label=i)    \n",
    "# plotting    \n",
    "plt.figure(dpi=150)\n",
    "#plt.plot(fpr[0], tpr[0],lw=1, linestyle='dotted',color='blue', label='Class 0 vs Rest')\n",
    "#plt.plot(fpr[1], tpr[1], linestyle='--',color='orange', label='Class 1 vs Rest')\n",
    "plt.plot(fpr[0], tpr[0], lw=1, color='green', label=f'AUC Class 0 = {roc_auc:.3f}')\n",
    "plt.plot(fpr[1], tpr[1], lw=1, color='orange', label=f'AUC Class 1 = {roc_auc:.3f}')\n",
    "\n",
    "\n",
    "plt.title(' ROC curve')\n",
    "plt.xlabel('False Positive Rate')\n",
    "plt.ylabel('True Positive rate')\n",
    "plt.xlim([-0.05, 1.05])\n",
    "plt.ylim([-0.05, 1.05])\n",
    "plt.legend(loc='best')\n",
    "plt.savefig('ROC Curve',dpi=300);    "
   ]
  },
  {
   "cell_type": "code",
   "execution_count": null,
   "id": "84681eec",
   "metadata": {},
   "outputs": [],
   "source": [
    "big_data = pd.read_csv('Data_All.csv')\n",
    "big_data = big_data.rename(columns={\"Power_Lines_Proximity\":\"Power Lines Proximity\", \n",
    "                   \"ESA_Worldcover\":\"LULC\",\n",
    "                   \"Forest_Density\":\"TCD\",\n",
    "                   \"Forest_Road_Proximity\": \"Forest Road Proximity\",\n",
    "                   \"Railroad_Proximity\": \"Railway Proximity\",\n",
    "                   \"Road_Proximity\": \"Road Proximity\",\n",
    "                   \"Settlement_Density\": \"Settlement Density\",\n",
    "                   \"Settlement_Proximity\": \"Settlement Proximity\",\n",
    "                   \"Tree_Ages\": \"Tree Ages\",\n",
    "                   \"Tree_Types\": \"Tree Types\",\n",
    "                   \"Water_Proximity\": \"Water Proximity\",\n",
    "                   \"DEM\": \"Elevation\" \n",
    "                  })\n",
    "big_data2 = big_data[feature_cols]"
   ]
  },
  {
   "cell_type": "code",
   "execution_count": null,
   "id": "367c789f",
   "metadata": {},
   "outputs": [],
   "source": [
    "class_code = clf.predict(big_data2)            # Predictions\n",
    "class_code_prob = clf.predict_proba(big_data2) # Probabilities"
   ]
  },
  {
   "cell_type": "code",
   "execution_count": null,
   "id": "414f73c5",
   "metadata": {},
   "outputs": [],
   "source": [
    "Results = pd.DataFrame(class_code_prob, columns = ['Class_0_Prob','Class_1_Prob']) # Writing Probability results into specified columns"
   ]
  },
  {
   "cell_type": "code",
   "execution_count": null,
   "id": "a5c20de3",
   "metadata": {},
   "outputs": [],
   "source": [
    "Results['Predictions'] = class_code.tolist() # Writing Predictions into Column\n",
    "Results['X'] = big_data['X'].tolist()        # Writing X Coordinates into column\n",
    "Results['Y'] = big_data['Y'].tolist()        # Writing Y Coordinates into column\n",
    "Results.to_csv('RF.csv')          # Writing the df into CSV Table"
   ]
  }
 ],
 "metadata": {
  "kernelspec": {
   "display_name": "Python 3 (ipykernel)",
   "language": "python",
   "name": "python3"
  },
  "language_info": {
   "codemirror_mode": {
    "name": "ipython",
    "version": 3
   },
   "file_extension": ".py",
   "mimetype": "text/x-python",
   "name": "python",
   "nbconvert_exporter": "python",
   "pygments_lexer": "ipython3",
   "version": "3.11.3"
  }
 },
 "nbformat": 4,
 "nbformat_minor": 5
}
